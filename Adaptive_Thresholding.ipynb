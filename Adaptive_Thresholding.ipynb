{
  "cells": [
    {
      "cell_type": "markdown",
      "metadata": {
        "id": "view-in-github",
        "colab_type": "text"
      },
      "source": [
        "<a href=\"https://colab.research.google.com/github/JARVIS7786/DL-Projects/blob/main/Adaptive_Thresholding.ipynb\" target=\"_parent\"><img src=\"https://colab.research.google.com/assets/colab-badge.svg\" alt=\"Open In Colab\"/></a>"
      ]
    },
    {
      "cell_type": "markdown",
      "id": "669587b2",
      "metadata": {
        "id": "669587b2"
      },
      "source": [
        "# Adaptive Thresholding"
      ]
    },
    {
      "cell_type": "markdown",
      "id": "dfa5ae4e",
      "metadata": {
        "id": "dfa5ae4e"
      },
      "source": [
        "### No need for threshold value to be incorporated unlike traditional thresholding methods"
      ]
    },
    {
      "cell_type": "code",
      "execution_count": null,
      "id": "537dddb1",
      "metadata": {
        "id": "537dddb1"
      },
      "outputs": [],
      "source": [
        "import cv2                                                      #importing necessary libraries\n",
        "import numpy as np"
      ]
    },
    {
      "cell_type": "code",
      "execution_count": null,
      "id": "6b08e358",
      "metadata": {
        "id": "6b08e358"
      },
      "outputs": [],
      "source": [
        "image=cv2.imread(\"/content/paasport size.JPG\",0)                                  #reading our input image"
      ]
    },
    {
      "cell_type": "code",
      "execution_count": null,
      "id": "3e0ad109",
      "metadata": {
        "id": "3e0ad109",
        "collapsed": true
      },
      "outputs": [],
      "source": [
        "from google.colab.patches import cv2_imshow\n",
        "\n",
        "cv2_imshow(image)                              #displaying our original image\n",
        "cv2.waitKey(0)"
      ]
    },
    {
      "cell_type": "code",
      "execution_count": null,
      "id": "812b2b1d",
      "metadata": {
        "id": "812b2b1d",
        "collapsed": true
      },
      "outputs": [],
      "source": [
        "from google.colab.patches import cv2_imshow\n",
        "ret,thresh1=cv2.threshold(image,127,255,cv2.THRESH_BINARY)      #values below 127 go to 0(black) and everything above 127 goes to 255(white)\n",
        "cv2_imshow(thresh1)\n",
        "cv2.waitKey(0)"
      ]
    },
    {
      "cell_type": "code",
      "execution_count": null,
      "id": "5e3257fc",
      "metadata": {
        "id": "5e3257fc"
      },
      "outputs": [],
      "source": [
        "image1=cv2.GaussianBlur(image,(5,5),0)                          #good to remove noise using gaussian blur"
      ]
    },
    {
      "cell_type": "code",
      "execution_count": null,
      "id": "2feafde1",
      "metadata": {
        "id": "2feafde1"
      },
      "outputs": [],
      "source": [
        "from google.colab.patches import cv2_imshow\n",
        "thresh=cv2.adaptiveThreshold(image,255,cv2.ADAPTIVE_THRESH_MEAN_C,cv2.THRESH_BINARY,3,5)   #using adaptive threshold\n",
        "cv2_imshow(thresh)\n",
        "cv2.waitKey(0)"
      ]
    },
    {
      "cell_type": "code",
      "execution_count": null,
      "id": "d09c706d",
      "metadata": {
        "id": "d09c706d"
      },
      "outputs": [],
      "source": [
        "from google.colab.patches import cv2_imshow\n",
        "_,th2=cv2.threshold(image,0,255,cv2.THRESH_BINARY+cv2.THRESH_OTSU)\n",
        "cv2_imshow(thresh)\n",
        "cv2.waitKey(0)"
      ]
    },
    {
      "cell_type": "code",
      "execution_count": null,
      "id": "1c46a98e",
      "metadata": {
        "id": "1c46a98e"
      },
      "outputs": [],
      "source": [
        "from google.colab.patches import cv2_imshow\n",
        "blur=cv2.GaussianBlur(image,(7,7),0)                               #Otsu's thresholding after gaussian filtering\n",
        "_,th3=cv2.threshold(blur,0,255,cv2.THRESH_BINARY+cv2.THRESH_OTSU)\n",
        "cv2_imshow(thresh)\n",
        "cv2.waitKey(0)"
      ]
    },
    {
      "cell_type": "code",
      "execution_count": null,
      "id": "4d68b36d",
      "metadata": {
        "id": "4d68b36d"
      },
      "outputs": [],
      "source": [
        "cv2.destroyAllWindows()"
      ]
    }
  ],
  "metadata": {
    "kernelspec": {
      "display_name": "Python 3 (ipykernel)",
      "language": "python",
      "name": "python3"
    },
    "language_info": {
      "codemirror_mode": {
        "name": "ipython",
        "version": 3
      },
      "file_extension": ".py",
      "mimetype": "text/x-python",
      "name": "python",
      "nbconvert_exporter": "python",
      "pygments_lexer": "ipython3",
      "version": "3.10.11"
    },
    "colab": {
      "provenance": [],
      "include_colab_link": true
    }
  },
  "nbformat": 4,
  "nbformat_minor": 5
}