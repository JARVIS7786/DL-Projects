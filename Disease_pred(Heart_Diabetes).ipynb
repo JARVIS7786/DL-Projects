{
  "nbformat": 4,
  "nbformat_minor": 0,
  "metadata": {
    "colab": {
      "provenance": [],
      "authorship_tag": "ABX9TyPsRsA7a7eCJY2uSWBTM6Wk",
      "include_colab_link": true
    },
    "kernelspec": {
      "name": "python3",
      "display_name": "Python 3"
    },
    "language_info": {
      "name": "python"
    }
  },
  "cells": [
    {
      "cell_type": "markdown",
      "metadata": {
        "id": "view-in-github",
        "colab_type": "text"
      },
      "source": [
        "<a href=\"https://colab.research.google.com/github/JARVIS7786/DL-Projects/blob/main/Disease_pred(Heart_Diabetes).ipynb\" target=\"_parent\"><img src=\"https://colab.research.google.com/assets/colab-badge.svg\" alt=\"Open In Colab\"/></a>"
      ]
    },
    {
      "cell_type": "code",
      "execution_count": 3,
      "metadata": {
        "id": "7Lmv89GuyJ4p"
      },
      "outputs": [],
      "source": [
        "import pandas as pd\n",
        "import numpy as np\n",
        "from sklearn.model_selection import train_test_split\n",
        "from sklearn.preprocessing import StandardScaler\n",
        "from sklearn.ensemble import RandomForestClassifier\n",
        "from sklearn.linear_model import LogisticRegression\n",
        "from sklearn.metrics import accuracy_score, confusion_matrix, classification_report\n",
        "import matplotlib.pyplot as plt\n",
        "import seaborn as sns"
      ]
    },
    {
      "cell_type": "code",
      "source": [],
      "metadata": {
        "id": "UXWhQLzeri1n"
      },
      "execution_count": null,
      "outputs": []
    },
    {
      "cell_type": "code",
      "source": [
        "class DiseaseRiskPredictor:\n",
        "    def __init__(self):\n",
        "        from sklearn.preprocessing import StandardScaler\n",
        "        self.model = None\n",
        "        self.scaler = StandardScaler()\n",
        "        self.feature_names = None # Add attribute to store feature names"
      ],
      "metadata": {
        "id": "rtf8E6t9p_YU"
      },
      "execution_count": null,
      "outputs": []
    },
    {
      "cell_type": "code",
      "source": [
        "def load_data(self, file_path):\n",
        "        \"\"\"Load dataset from CSV file\"\"\"\n",
        "        try:\n",
        "            self.data = pd.read_csv(file_path)\n",
        "            return self.data\n",
        "        except Exception as e:\n",
        "            print(f\"Error loading data: {e}\")\n",
        "            return None"
      ],
      "metadata": {
        "id": "XXkFc6C_qAaC"
      },
      "execution_count": null,
      "outputs": []
    },
    {
      "cell_type": "code",
      "source": [
        "def preprocess_data(self, target_column):\n",
        "        \"\"\"Preprocess the data for training\"\"\"\n",
        "        # Handle missing values\n",
        "        self.data = self.data.fillna(self.data.mean())\n",
        "\n",
        "        # Separate features and target\n",
        "        X = self.data.drop(target_column, axis=1)\n",
        "        y = self.data[target_column]\n",
        "        self.feature_names = X.columns.tolist() # Store feature names\n",
        "\n",
        "        # Split the data\n",
        "        self.X_train, self.X_test, self.y_train, self.y_test = train_test_split(\n",
        "            X, y, test_size=0.2, random_state=42, stratify=y\n",
        "        )\n",
        "\n",
        "        # Scale the features\n",
        "        self.X_train_scaled = self.scaler.fit_transform(self.X_train)\n",
        "        self.X_test_scaled = self.scaler.transform(self.X_test)\n",
        "\n",
        "        return self.X_train_scaled, self.X_test_scaled, self.y_train, self.y_test\n"
      ],
      "metadata": {
        "id": "fdcdy5mqqHba"
      },
      "execution_count": null,
      "outputs": []
    },
    {
      "cell_type": "code",
      "source": [
        "def train_model(self, model_type='random_forest'):\n",
        "        \"\"\"Train the prediction model\"\"\"\n",
        "        if model_type == 'random_forest':\n",
        "            from sklearn.ensemble import RandomForestClassifier\n",
        "            self.model = RandomForestClassifier(n_estimators=100, random_state=42)\n",
        "        elif model_type == 'logistic_regression':\n",
        "            self.model = LogisticRegression(random_state=42)\n",
        "\n",
        "        self.model.fit(self.X_train_scaled, self.y_train)\n"
      ],
      "metadata": {
        "id": "gRDg2N1iq5SZ"
      },
      "execution_count": null,
      "outputs": []
    },
    {
      "cell_type": "code",
      "source": [
        "print(type(predictor.model))"
      ],
      "metadata": {
        "colab": {
          "base_uri": "https://localhost:8080/"
        },
        "id": "Td9mohCVvJjr",
        "outputId": "885c2675-358e-4c64-f99c-3e41a2557b7b"
      },
      "execution_count": 8,
      "outputs": [
        {
          "output_type": "stream",
          "name": "stdout",
          "text": [
            "<class 'sklearn.ensemble._forest.RandomForestClassifier'>\n"
          ]
        }
      ]
    },
    {
      "cell_type": "code",
      "source": [
        " def evaluate_model(self):\n",
        "        \"\"\"Evaluate model performance\"\"\"\n",
        "        # Make predictions\n",
        "        y_pred = self.model.predict(self.X_test_scaled)\n",
        "\n",
        "        # Calculate metrics\n",
        "        accuracy = accuracy_score(self.y_test, y_pred)\n",
        "        conf_matrix = confusion_matrix(self.y_test, y_pred)\n",
        "\n",
        "        print(f\"Accuracy: {accuracy:.4f}\")\n",
        "        print(\"\\nClassification Report:\")\n",
        "        print(classification_report(self.y_test, y_pred))\n",
        "\n",
        "        # Plot confusion matrix\n",
        "        plt.figure(figsize=(8, 6))\n",
        "        sns.heatmap(conf_matrix, annot=True, fmt='d', cmap='Blues')\n",
        "        plt.title('Confusion Matrix')\n",
        "        plt.ylabel('Actual')\n",
        "        plt.xlabel('Predicted')\n",
        "        plt.show()\n",
        "\n",
        "        return accuracy, conf_matrix"
      ],
      "metadata": {
        "id": "cpehElYvq7RI"
      },
      "execution_count": null,
      "outputs": []
    },
    {
      "cell_type": "code",
      "source": [
        " def predict_risk(self, patient_data):\n",
        "        \"\"\"Predict disease risk for new patient data\"\"\"\n",
        "        if self.model is None:\n",
        "            print(\"Model not trained yet!\")\n",
        "            return None\n",
        "\n",
        "        # Scale the input data\n",
        "        patient_data_scaled = self.scaler.transform([patient_data])\n",
        "\n",
        "        # Make prediction\n",
        "        risk_prediction = self.model.predict(patient_data_scaled)[0]\n",
        "        risk_probability = self.model.predict_proba(patient_data_scaled)[0]\n",
        "\n",
        "        return {\n",
        "            'risk_prediction': 'High Risk' if risk_prediction == 1 else 'Low Risk',\n",
        "            'probability': max(risk_probability)\n",
        "        }"
      ],
      "metadata": {
        "id": "rakhWPP2q_98"
      },
      "execution_count": null,
      "outputs": []
    },
    {
      "cell_type": "code",
      "source": [
        "# Removed class definition and replaced with direct function\n",
        "\n",
        "# Usage Example\n",
        "if __name__ == \"__main__\":\n",
        "    # Initialize predictor\n",
        "    predictor = DiseaseRiskPredictor()\n",
        "\n",
        "    # Load and preprocess data\n",
        "    data = predictor.load_data('/content/heart_disease_risk_dataset_earlymed.csv')\n",
        "    if data is not None:\n",
        "        # Assuming the target column is named 'Heart_Risk'\n",
        "        X_train, X_test, y_train, y_test = predictor.preprocess_data('Heart_Risk')\n",
        "\n",
        "        # Train model\n",
        "        predictor.train_model('random_forest')\n",
        "\n",
        "        # Evaluate model\n",
        "        accuracy, conf_matrix = predictor.evaluate_model()\n",
        "\n",
        "        # Make prediction for new patient\n",
        "        # Replace with actual patient data based on your dataset's features\n",
        "        # Need 18 features based on the data after dropping 'Heart_Risk'\n",
        "        print(\"Features used for training:\", predictor.feature_names) # Print feature names to help construct new_patient\n",
        "        new_patient = [\n",
        "            50, # Example value for the first feature\n",
        "            1,  # Example value for the second feature\n",
        "            0,  # Example value for the third feature\n",
        "            140,# Example value for the fourth feature\n",
        "            230,# Example value for the fifth feature\n",
        "            0,  # Example value for the sixth feature\n",
        "            1,  # Example value for the seventh feature\n",
        "            150,# Example value for the eighth feature\n",
        "            0,  # Example value for the ninth feature\n",
        "            2.3,# Example value for the tenth feature\n",
        "            0,  # Example value for the eleventh feature\n",
        "            0,  # Example value for the twelfth feature\n",
        "            1,  # Example value for the thirteenth feature\n",
        "            0,  # Example value for the fourteenth feature\n",
        "            0,  # Example value for the fifteenth feature\n",
        "            0,  # Example value for the sixteenth feature\n",
        "            0,  # Example value for the seventeenth feature\n",
        "            48  # Example value for the eighteenth feature\n",
        "        ] # Example data - REPLACE WITH ACTUAL VALUES\n",
        "        result = predictor.predict_risk(new_patient)\n",
        "        print(f\"\\nPrediction for new patient: {result}\")\n",
        "    else:\n",
        "        print(\"Failed to load data. Please check the file path.\")"
      ],
      "metadata": {
        "id": "ldCuhMaHyxmY",
        "colab": {
          "base_uri": "https://localhost:8080/",
          "height": 879
        },
        "outputId": "c5446786-00b5-46b2-e2dd-dce39cca50a3"
      },
      "execution_count": 6,
      "outputs": [
        {
          "output_type": "stream",
          "name": "stdout",
          "text": [
            "Accuracy: 0.9916\n",
            "\n",
            "Classification Report:\n",
            "              precision    recall  f1-score   support\n",
            "\n",
            "         0.0       0.99      0.99      0.99      7000\n",
            "         1.0       0.99      0.99      0.99      7000\n",
            "\n",
            "    accuracy                           0.99     14000\n",
            "   macro avg       0.99      0.99      0.99     14000\n",
            "weighted avg       0.99      0.99      0.99     14000\n",
            "\n"
          ]
        },
        {
          "output_type": "display_data",
          "data": {
            "text/plain": [
              "<Figure size 800x600 with 2 Axes>"
            ],
            "image/png": "[encoded data removed]"
          },
          "metadata": {}
        },
        {
          "output_type": "stream",
          "name": "stdout",
          "text": [
            "Features used for training: ['Chest_Pain', 'Shortness_of_Breath', 'Fatigue', 'Palpitations', 'Dizziness', 'Swelling', 'Pain_Arms_Jaw_Back', 'Cold_Sweats_Nausea', 'High_BP', 'High_Cholesterol', 'Diabetes', 'Smoking', 'Obesity', 'Sedentary_Lifestyle', 'Family_History', 'Chronic_Stress', 'Gender', 'Age']\n",
            "\n",
            "Prediction for new patient: {'risk_prediction': 'High Risk', 'probability': np.float64(0.94)}\n"
          ]
        },
        {
          "output_type": "stream",
          "name": "stderr",
          "text": [
            "/usr/local/lib/python3.11/dist-packages/sklearn/utils/validation.py:2739: UserWarning: X does not have valid feature names, but StandardScaler was fitted with feature names\n",
            "  warnings.warn(\n"
          ]
        }
      ]
    },
    {
      "cell_type": "code",
      "source": [],
      "metadata": {
        "id": "779pZyA1p-MM"
      },
      "execution_count": null,
      "outputs": []
    },
    {
      "cell_type": "code",
      "source": [
        "def load_data(file_path):\n",
        "  \"\"\"Loads data from a CSV file.\"\"\"\n",
        "  try:\n",
        "    data = pd.read_csv(file_path)\n",
        "    return data\n",
        "  except Exception as e:\n",
        "    print(\"Error loading data:\",str(e))\n",
        "    return None"
      ],
      "metadata": {
        "id": "yqafVPCZyxoh"
      },
      "execution_count": null,
      "outputs": []
    },
    {
      "cell_type": "code",
      "source": [
        "def preprocess_data(data, target_column):\n",
        "  \"\"\"Preprocesses the data by handling missing values, splitting features and target,\n",
        "  and scaling the features.\"\"\"\n",
        "  data = data.fillna(data.mean())\n",
        "\n",
        "  X = data.drop(target_column, axis=1)\n",
        "  y = data[target_column]\n",
        "\n",
        "  X_train, X_test, y_train, y_test = train_test_split(X, y, test_size=0.2, random_state=42, stratify=y)\n",
        "\n",
        "  scaler = StandardScaler()\n",
        "  X_train_scaled = scaler.fit_transform(X_train)\n",
        "  X_test_scaled = scaler.transform(X_test)\n",
        "\n",
        "  return X_train_scaled, X_test_scaled, y_train, y_test"
      ],
      "metadata": {
        "id": "SmYRmL3Eyxri"
      },
      "execution_count": null,
      "outputs": []
    },
    {
      "cell_type": "code",
      "source": [
        "from sklearn.ensemble import RandomForestClassifier\n",
        "def train_model(self, model_type='random_forest'):\n",
        "    if model_type == 'random_forest':\n",
        "        self.model = RandomForestClassifier(n_estimators=100, random_state=42)\n",
        "    elif model_type == 'logistic_regression':\n",
        "        self.model = LogisticRegression(random_state=42)\n",
        "\n",
        "    self.model.fit(self.X_train_scaled, self.y_train)"
      ],
      "metadata": {
        "id": "ZGwY2Vui01Ap"
      },
      "execution_count": null,
      "outputs": []
    },
    {
      "cell_type": "code",
      "source": [],
      "metadata": {
        "id": "i63HYSbwyxtt"
      },
      "execution_count": null,
      "outputs": []
    },
    {
      "cell_type": "code",
      "source": [
        "def evaluate_model(model, X_test, y_test):\n",
        "  \"\"\"Evaluates the trained model and prints performance metrics.\"\"\"\n",
        "  y_pred = model.predict(X_test)\n",
        "\n",
        "  accuracy = accuracy_score(y_test, y_pred)\n",
        "  print(f\"Accuracy: {accuracy:.2f}\")\n",
        "\n",
        "  print(\"\\nClassification Report:\")\n",
        "  print(classification_report(y_test, y_pred))\n",
        "\n",
        "  print(\"\\nConfusion Matrix:\")\n",
        "  print(confusion_matrix(y_test, y_pred))"
      ],
      "metadata": {
        "id": "qwZZVagR0091"
      },
      "execution_count": null,
      "outputs": []
    },
    {
      "cell_type": "code",
      "source": [],
      "metadata": {
        "id": "DetlaD6p01DV"
      },
      "execution_count": null,
      "outputs": []
    },
    {
      "cell_type": "code",
      "source": [],
      "metadata": {
        "id": "Dhvv-GfgyxwD"
      },
      "execution_count": null,
      "outputs": []
    },
    {
      "cell_type": "code",
      "source": [],
      "metadata": {
        "id": "WNai3esUyxzh"
      },
      "execution_count": null,
      "outputs": []
    }
  ]
}